{
 "cells": [
  {
   "cell_type": "code",
   "execution_count": null,
   "id": "7ce74dd6-d3d0-4550-8770-f34860f43189",
   "metadata": {},
   "outputs": [],
   "source": []
  }
 ],
 "metadata": {
  "kernelspec": {
   "display_name": "Python 3",
   "language": "python",
   "name": "python3"
  },
  "language_info": {
   "name": ""
  }
 },
 "nbformat": 4,
 "nbformat_minor": 5
}
