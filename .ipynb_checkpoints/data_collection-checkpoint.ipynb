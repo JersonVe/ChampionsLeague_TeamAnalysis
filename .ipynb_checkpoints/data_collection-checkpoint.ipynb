{
 "cells": [
  {
   "cell_type": "markdown",
   "id": "e49dbd34-e8b3-4c5b-834c-e471e0eb49ef",
   "metadata": {},
   "source": [
    "# Recolección de datos"
   ]
  },
  {
   "cell_type": "markdown",
   "id": "99093993-f168-47ba-b2f8-86889cde7c8b",
   "metadata": {},
   "source": [
    "### Extracción de datos de Bayern Munich 2020"
   ]
  },
  {
   "cell_type": "code",
   "execution_count": null,
   "id": "25169ec4-82f1-4dbb-86a2-64bd579a769d",
   "metadata": {},
   "outputs": [],
   "source": []
  },
  {
   "cell_type": "code",
   "execution_count": null,
   "id": "53f0b6b5-e022-484e-8395-68d6e87b36db",
   "metadata": {},
   "outputs": [],
   "source": []
  },
  {
   "cell_type": "code",
   "execution_count": null,
   "id": "9bcd63ed-2089-4554-832a-88a97d9b20b5",
   "metadata": {},
   "outputs": [],
   "source": []
  },
  {
   "cell_type": "markdown",
   "id": "6795187b-656c-4053-8b83-46608497fc3b",
   "metadata": {},
   "source": [
    "### Extracción de datos de Manchester City 2022"
   ]
  },
  {
   "cell_type": "code",
   "execution_count": null,
   "id": "5aba9164-7a45-455e-b463-ee23939333aa",
   "metadata": {},
   "outputs": [],
   "source": []
  },
  {
   "cell_type": "code",
   "execution_count": null,
   "id": "8494fd19-fdfa-48be-8281-6fd072776317",
   "metadata": {},
   "outputs": [],
   "source": []
  },
  {
   "cell_type": "code",
   "execution_count": null,
   "id": "0bc612ab-1a1c-4e65-9ede-d4000b8cf1ef",
   "metadata": {},
   "outputs": [],
   "source": []
  },
  {
   "cell_type": "markdown",
   "id": "25b3486b-77f7-4cc2-8479-74f2ca5fe0c4",
   "metadata": {},
   "source": [
    "### Extracción de datos de Barcelona 2009"
   ]
  },
  {
   "cell_type": "code",
   "execution_count": null,
   "id": "c3ffc73b-16a1-49c5-b3bd-62da9c994b7f",
   "metadata": {},
   "outputs": [],
   "source": []
  },
  {
   "cell_type": "code",
   "execution_count": null,
   "id": "ef1e403e-89cf-471a-b346-89e19c678ffe",
   "metadata": {},
   "outputs": [],
   "source": []
  },
  {
   "cell_type": "code",
   "execution_count": null,
   "id": "5e74d78a-701c-4951-a453-fc5905171d49",
   "metadata": {},
   "outputs": [],
   "source": []
  },
  {
   "cell_type": "markdown",
   "id": "86b9b58a-b4a4-47aa-8b34-de9b41aefc35",
   "metadata": {},
   "source": [
    "### Extracción de datos de Real Madrid 2017"
   ]
  },
  {
   "cell_type": "code",
   "execution_count": null,
   "id": "0aa61109-fbca-4715-858a-7e48ed954347",
   "metadata": {},
   "outputs": [],
   "source": []
  },
  {
   "cell_type": "code",
   "execution_count": null,
   "id": "bb04bc70-0aa2-4887-9ca0-f6e25dfb2cac",
   "metadata": {},
   "outputs": [],
   "source": []
  },
  {
   "cell_type": "code",
   "execution_count": null,
   "id": "97593166-8cb2-4df4-aeae-dda4fcb98e0b",
   "metadata": {},
   "outputs": [],
   "source": []
  },
  {
   "cell_type": "code",
   "execution_count": null,
   "id": "df3f03d2-9100-44a2-a96e-0dc0f5339feb",
   "metadata": {},
   "outputs": [],
   "source": []
  }
 ],
 "metadata": {
  "kernelspec": {
   "display_name": "Python 3",
   "language": "python",
   "name": "python3"
  },
  "language_info": {
   "codemirror_mode": {
    "name": "ipython",
    "version": 3
   },
   "file_extension": ".py",
   "mimetype": "text/x-python",
   "name": "python",
   "nbconvert_exporter": "python",
   "pygments_lexer": "ipython3",
   "version": "3.8.8"
  }
 },
 "nbformat": 4,
 "nbformat_minor": 5
}
