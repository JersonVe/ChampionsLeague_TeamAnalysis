{
 "cells": [
  {
   "cell_type": "markdown",
   "id": "032539d2-ae39-4ef3-a9be-23f6d39ee92d",
   "metadata": {},
   "source": [
    "# Análisis de las estadísticas de los 4 mejores equipos ganadores de champions en este siglo.\n",
    "### Equipos: Barcelona (2009), Real Madrid (2017), Bayern (2020) y Manchester City (2022) "
   ]
  },
  {
   "cell_type": "markdown",
   "id": "b5553aa5-d822-403f-9019-e7bda4c48541",
   "metadata": {},
   "source": []
  },
  {
   "cell_type": "code",
   "execution_count": null,
   "id": "5cdb02f2-6254-4d77-8ec4-112e83d9118f",
   "metadata": {},
   "outputs": [],
   "source": []
  }
 ],
 "metadata": {
  "kernelspec": {
   "display_name": "Python 3",
   "language": "python",
   "name": "python3"
  },
  "language_info": {
   "codemirror_mode": {
    "name": "ipython",
    "version": 3
   },
   "file_extension": ".py",
   "mimetype": "text/x-python",
   "name": "python",
   "nbconvert_exporter": "python",
   "pygments_lexer": "ipython3",
   "version": "3.8.8"
  }
 },
 "nbformat": 4,
 "nbformat_minor": 5
}
